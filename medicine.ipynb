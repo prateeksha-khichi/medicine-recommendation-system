{
 "cells": [
  {
   "cell_type": "code",
   "execution_count": 3,
   "id": "1cee3713-f939-4527-a06b-e96b961d7b80",
   "metadata": {},
   "outputs": [],
   "source": [
    "import pandas as pd\n",
    "import numpy as np\n"
   ]
  },
  {
   "cell_type": "code",
   "execution_count": 5,
   "id": "0dde23c9-a24c-4e2a-a499-7529efde6c6c",
   "metadata": {},
   "outputs": [],
   "source": [
    "data = pd.read_csv(\"medicine.csv\")"
   ]
  },
  {
   "cell_type": "code",
   "execution_count": 7,
   "id": "6bcf686b-7452-461c-a9f0-492b2b64d4b8",
   "metadata": {},
   "outputs": [
    {
     "data": {
      "text/html": [
       "<div>\n",
       "<style scoped>\n",
       "    .dataframe tbody tr th:only-of-type {\n",
       "        vertical-align: middle;\n",
       "    }\n",
       "\n",
       "    .dataframe tbody tr th {\n",
       "        vertical-align: top;\n",
       "    }\n",
       "\n",
       "    .dataframe thead th {\n",
       "        text-align: right;\n",
       "    }\n",
       "</style>\n",
       "<table border=\"1\" class=\"dataframe\">\n",
       "  <thead>\n",
       "    <tr style=\"text-align: right;\">\n",
       "      <th></th>\n",
       "      <th>index</th>\n",
       "      <th>Drug_Name</th>\n",
       "      <th>Reason</th>\n",
       "      <th>Description</th>\n",
       "    </tr>\n",
       "  </thead>\n",
       "  <tbody>\n",
       "    <tr>\n",
       "      <th>0</th>\n",
       "      <td>1</td>\n",
       "      <td>A CN Gel(Topical) 20gmA CN Soap 75gm</td>\n",
       "      <td>Acne</td>\n",
       "      <td>Mild to moderate acne (spots)</td>\n",
       "    </tr>\n",
       "    <tr>\n",
       "      <th>1</th>\n",
       "      <td>2</td>\n",
       "      <td>A Ret 0.05% Gel 20gmA Ret 0.1% Gel 20gmA Ret 0...</td>\n",
       "      <td>Acne</td>\n",
       "      <td>A RET 0.025% is a prescription medicine that i...</td>\n",
       "    </tr>\n",
       "    <tr>\n",
       "      <th>2</th>\n",
       "      <td>3</td>\n",
       "      <td>ACGEL CL NANO Gel 15gm</td>\n",
       "      <td>Acne</td>\n",
       "      <td>It is used to treat acne vulgaris in people 12...</td>\n",
       "    </tr>\n",
       "    <tr>\n",
       "      <th>3</th>\n",
       "      <td>4</td>\n",
       "      <td>ACGEL NANO Gel 15gm</td>\n",
       "      <td>Acne</td>\n",
       "      <td>It is used to treat acne vulgaris in people 12...</td>\n",
       "    </tr>\n",
       "    <tr>\n",
       "      <th>4</th>\n",
       "      <td>5</td>\n",
       "      <td>Acleen 1% Lotion 25ml</td>\n",
       "      <td>Acne</td>\n",
       "      <td>treat the most severe form of acne (nodular ac...</td>\n",
       "    </tr>\n",
       "  </tbody>\n",
       "</table>\n",
       "</div>"
      ],
      "text/plain": [
       "   index                                          Drug_Name Reason  \\\n",
       "0      1               A CN Gel(Topical) 20gmA CN Soap 75gm   Acne   \n",
       "1      2  A Ret 0.05% Gel 20gmA Ret 0.1% Gel 20gmA Ret 0...   Acne   \n",
       "2      3                             ACGEL CL NANO Gel 15gm   Acne   \n",
       "3      4                                ACGEL NANO Gel 15gm   Acne   \n",
       "4      5                              Acleen 1% Lotion 25ml   Acne   \n",
       "\n",
       "                                         Description  \n",
       "0                      Mild to moderate acne (spots)  \n",
       "1  A RET 0.025% is a prescription medicine that i...  \n",
       "2  It is used to treat acne vulgaris in people 12...  \n",
       "3  It is used to treat acne vulgaris in people 12...  \n",
       "4  treat the most severe form of acne (nodular ac...  "
      ]
     },
     "execution_count": 7,
     "metadata": {},
     "output_type": "execute_result"
    }
   ],
   "source": [
    "data.head()"
   ]
  },
  {
   "cell_type": "code",
   "execution_count": 9,
   "id": "0da2859b-74a5-4b37-a934-f5db8fa5760b",
   "metadata": {},
   "outputs": [
    {
     "data": {
      "text/plain": [
       "(9720, 4)"
      ]
     },
     "execution_count": 9,
     "metadata": {},
     "output_type": "execute_result"
    }
   ],
   "source": [
    "data.shape"
   ]
  },
  {
   "cell_type": "code",
   "execution_count": 11,
   "id": "14f5904c-0531-4373-8a90-3d2f4734cbaf",
   "metadata": {},
   "outputs": [
    {
     "data": {
      "text/plain": [
       "index          0\n",
       "Drug_Name      0\n",
       "Reason         0\n",
       "Description    0\n",
       "dtype: int64"
      ]
     },
     "execution_count": 11,
     "metadata": {},
     "output_type": "execute_result"
    }
   ],
   "source": [
    "data.isnull().sum()"
   ]
  },
  {
   "cell_type": "code",
   "execution_count": 13,
   "id": "bbe0c91c-3886-4c46-b484-57b6020e3b5d",
   "metadata": {},
   "outputs": [],
   "source": [
    "data.dropna(inplace=True)"
   ]
  },
  {
   "cell_type": "code",
   "execution_count": 15,
   "id": "94129d00-180c-4dd5-a6af-9290812f55fa",
   "metadata": {},
   "outputs": [
    {
     "data": {
      "text/plain": [
       "0"
      ]
     },
     "execution_count": 15,
     "metadata": {},
     "output_type": "execute_result"
    }
   ],
   "source": [
    "data.duplicated().sum()\n"
   ]
  },
  {
   "cell_type": "code",
   "execution_count": 17,
   "id": "d1d4f615-9765-49c9-9711-4902a7c10b36",
   "metadata": {},
   "outputs": [
    {
     "data": {
      "text/html": [
       "<div>\n",
       "<style scoped>\n",
       "    .dataframe tbody tr th:only-of-type {\n",
       "        vertical-align: middle;\n",
       "    }\n",
       "\n",
       "    .dataframe tbody tr th {\n",
       "        vertical-align: top;\n",
       "    }\n",
       "\n",
       "    .dataframe thead th {\n",
       "        text-align: right;\n",
       "    }\n",
       "</style>\n",
       "<table border=\"1\" class=\"dataframe\">\n",
       "  <thead>\n",
       "    <tr style=\"text-align: right;\">\n",
       "      <th></th>\n",
       "      <th>index</th>\n",
       "    </tr>\n",
       "  </thead>\n",
       "  <tbody>\n",
       "    <tr>\n",
       "      <th>count</th>\n",
       "      <td>9720.000000</td>\n",
       "    </tr>\n",
       "    <tr>\n",
       "      <th>mean</th>\n",
       "      <td>4860.500000</td>\n",
       "    </tr>\n",
       "    <tr>\n",
       "      <th>std</th>\n",
       "      <td>2806.066642</td>\n",
       "    </tr>\n",
       "    <tr>\n",
       "      <th>min</th>\n",
       "      <td>1.000000</td>\n",
       "    </tr>\n",
       "    <tr>\n",
       "      <th>25%</th>\n",
       "      <td>2430.750000</td>\n",
       "    </tr>\n",
       "    <tr>\n",
       "      <th>50%</th>\n",
       "      <td>4860.500000</td>\n",
       "    </tr>\n",
       "    <tr>\n",
       "      <th>75%</th>\n",
       "      <td>7290.250000</td>\n",
       "    </tr>\n",
       "    <tr>\n",
       "      <th>max</th>\n",
       "      <td>9720.000000</td>\n",
       "    </tr>\n",
       "  </tbody>\n",
       "</table>\n",
       "</div>"
      ],
      "text/plain": [
       "             index\n",
       "count  9720.000000\n",
       "mean   4860.500000\n",
       "std    2806.066642\n",
       "min       1.000000\n",
       "25%    2430.750000\n",
       "50%    4860.500000\n",
       "75%    7290.250000\n",
       "max    9720.000000"
      ]
     },
     "execution_count": 17,
     "metadata": {},
     "output_type": "execute_result"
    }
   ],
   "source": [
    "data.describe()"
   ]
  },
  {
   "cell_type": "code",
   "execution_count": 19,
   "id": "587a7b72-1f95-4594-b098-4e066c82a8a5",
   "metadata": {},
   "outputs": [
    {
     "name": "stdout",
     "output_type": "stream",
     "text": [
      "<class 'pandas.core.frame.DataFrame'>\n",
      "RangeIndex: 9720 entries, 0 to 9719\n",
      "Data columns (total 4 columns):\n",
      " #   Column       Non-Null Count  Dtype \n",
      "---  ------       --------------  ----- \n",
      " 0   index        9720 non-null   int64 \n",
      " 1   Drug_Name    9720 non-null   object\n",
      " 2   Reason       9720 non-null   object\n",
      " 3   Description  9720 non-null   object\n",
      "dtypes: int64(1), object(3)\n",
      "memory usage: 303.9+ KB\n"
     ]
    }
   ],
   "source": [
    "data.info()"
   ]
  },
  {
   "cell_type": "code",
   "execution_count": 21,
   "id": "f4d8417b-0dad-442a-aeb0-7f29ee48e856",
   "metadata": {},
   "outputs": [
    {
     "data": {
      "text/plain": [
       "0                           Mild to moderate acne (spots)\n",
       "1       A RET 0.025% is a prescription medicine that i...\n",
       "2       It is used to treat acne vulgaris in people 12...\n",
       "3       It is used to treat acne vulgaris in people 12...\n",
       "4       treat the most severe form of acne (nodular ac...\n",
       "                              ...                        \n",
       "9715                              used for treating warts\n",
       "9716                        used to soften the skin cells\n",
       "9717                                       used for scars\n",
       "9718                                      used for wounds\n",
       "9719    used to treat and remove raised warts (usually...\n",
       "Name: Description, Length: 9720, dtype: object"
      ]
     },
     "execution_count": 21,
     "metadata": {},
     "output_type": "execute_result"
    }
   ],
   "source": [
    "data['Description']"
   ]
  },
  {
   "cell_type": "code",
   "execution_count": 23,
   "id": "97d6dec7-4eaa-4e7f-936f-043c8988a7fc",
   "metadata": {},
   "outputs": [
    {
     "data": {
      "text/plain": [
       "0                     [Mild, to, moderate, acne, (spots)]\n",
       "1       [A, RET, 0.025%, is, a, prescription, medicine...\n",
       "2       [It, is, used, to, treat, acne, vulgaris, in, ...\n",
       "3       [It, is, used, to, treat, acne, vulgaris, in, ...\n",
       "4       [treat, the, most, severe, form, of, acne, (no...\n",
       "                              ...                        \n",
       "9715                         [used, for, treating, warts]\n",
       "9716                 [used, to, soften, the, skin, cells]\n",
       "9717                                   [used, for, scars]\n",
       "9718                                  [used, for, wounds]\n",
       "9719    [used, to, treat, and, remove, raised, warts, ...\n",
       "Name: Description, Length: 9720, dtype: object"
      ]
     },
     "execution_count": 23,
     "metadata": {},
     "output_type": "execute_result"
    }
   ],
   "source": [
    "data['Description'].apply(lambda x : x.split())"
   ]
  },
  {
   "cell_type": "code",
   "execution_count": 25,
   "id": "f457dfba-2bff-4a81-b2cb-cd84a5c2f936",
   "metadata": {},
   "outputs": [],
   "source": [
    "data['Description'] = data['Description'].apply(lambda x : x.split())\n",
    "data['Reason'] = data['Reason'].apply(lambda x : x.split())"
   ]
  },
  {
   "cell_type": "code",
   "execution_count": 27,
   "id": "81f0143e-626f-4d77-b07f-75b71275a9a7",
   "metadata": {},
   "outputs": [
    {
     "data": {
      "text/html": [
       "<div>\n",
       "<style scoped>\n",
       "    .dataframe tbody tr th:only-of-type {\n",
       "        vertical-align: middle;\n",
       "    }\n",
       "\n",
       "    .dataframe tbody tr th {\n",
       "        vertical-align: top;\n",
       "    }\n",
       "\n",
       "    .dataframe thead th {\n",
       "        text-align: right;\n",
       "    }\n",
       "</style>\n",
       "<table border=\"1\" class=\"dataframe\">\n",
       "  <thead>\n",
       "    <tr style=\"text-align: right;\">\n",
       "      <th></th>\n",
       "      <th>index</th>\n",
       "      <th>Drug_Name</th>\n",
       "      <th>Reason</th>\n",
       "      <th>Description</th>\n",
       "    </tr>\n",
       "  </thead>\n",
       "  <tbody>\n",
       "    <tr>\n",
       "      <th>9715</th>\n",
       "      <td>9716</td>\n",
       "      <td>T Muce Ointment 5gm</td>\n",
       "      <td>[Wound]</td>\n",
       "      <td>[used, for, treating, warts]</td>\n",
       "    </tr>\n",
       "    <tr>\n",
       "      <th>9716</th>\n",
       "      <td>9717</td>\n",
       "      <td>Wokadine 10% Solution 100mlWokadine Solution 5...</td>\n",
       "      <td>[Wound]</td>\n",
       "      <td>[used, to, soften, the, skin, cells]</td>\n",
       "    </tr>\n",
       "    <tr>\n",
       "      <th>9717</th>\n",
       "      <td>9718</td>\n",
       "      <td>Wokadine M Onit 10gm</td>\n",
       "      <td>[Wound]</td>\n",
       "      <td>[used, for, scars]</td>\n",
       "    </tr>\n",
       "    <tr>\n",
       "      <th>9718</th>\n",
       "      <td>9719</td>\n",
       "      <td>Wound Fix Solution 100ml</td>\n",
       "      <td>[Wound]</td>\n",
       "      <td>[used, for, wounds]</td>\n",
       "    </tr>\n",
       "    <tr>\n",
       "      <th>9719</th>\n",
       "      <td>9720</td>\n",
       "      <td>Wounsol Ointment 15gm</td>\n",
       "      <td>[Wound]</td>\n",
       "      <td>[used, to, treat, and, remove, raised, warts, ...</td>\n",
       "    </tr>\n",
       "  </tbody>\n",
       "</table>\n",
       "</div>"
      ],
      "text/plain": [
       "      index                                          Drug_Name   Reason  \\\n",
       "9715   9716                                T Muce Ointment 5gm  [Wound]   \n",
       "9716   9717  Wokadine 10% Solution 100mlWokadine Solution 5...  [Wound]   \n",
       "9717   9718                               Wokadine M Onit 10gm  [Wound]   \n",
       "9718   9719                           Wound Fix Solution 100ml  [Wound]   \n",
       "9719   9720                              Wounsol Ointment 15gm  [Wound]   \n",
       "\n",
       "                                            Description  \n",
       "9715                       [used, for, treating, warts]  \n",
       "9716               [used, to, soften, the, skin, cells]  \n",
       "9717                                 [used, for, scars]  \n",
       "9718                                [used, for, wounds]  \n",
       "9719  [used, to, treat, and, remove, raised, warts, ...  "
      ]
     },
     "execution_count": 27,
     "metadata": {},
     "output_type": "execute_result"
    }
   ],
   "source": [
    "data.tail()"
   ]
  },
  {
   "cell_type": "code",
   "execution_count": 29,
   "id": "c763b4f6-88ee-4ff5-866f-cd5b542ab50c",
   "metadata": {},
   "outputs": [],
   "source": [
    "data['Description'] = data['Description'].apply(lambda x : [i.replace(\" \", \"\") for i in x])"
   ]
  },
  {
   "cell_type": "code",
   "execution_count": 31,
   "id": "683117f2-2160-482b-8ab1-faa7eadbe2c1",
   "metadata": {},
   "outputs": [],
   "source": [
    "data['tags'] = data['Description'] + data['Reason']"
   ]
  },
  {
   "cell_type": "code",
   "execution_count": 33,
   "id": "e5fe028a-a271-47bc-ab90-0b0feb4f4aba",
   "metadata": {},
   "outputs": [
    {
     "data": {
      "text/html": [
       "<div>\n",
       "<style scoped>\n",
       "    .dataframe tbody tr th:only-of-type {\n",
       "        vertical-align: middle;\n",
       "    }\n",
       "\n",
       "    .dataframe tbody tr th {\n",
       "        vertical-align: top;\n",
       "    }\n",
       "\n",
       "    .dataframe thead th {\n",
       "        text-align: right;\n",
       "    }\n",
       "</style>\n",
       "<table border=\"1\" class=\"dataframe\">\n",
       "  <thead>\n",
       "    <tr style=\"text-align: right;\">\n",
       "      <th></th>\n",
       "      <th>index</th>\n",
       "      <th>Drug_Name</th>\n",
       "      <th>Reason</th>\n",
       "      <th>Description</th>\n",
       "      <th>tags</th>\n",
       "    </tr>\n",
       "  </thead>\n",
       "  <tbody>\n",
       "    <tr>\n",
       "      <th>0</th>\n",
       "      <td>1</td>\n",
       "      <td>A CN Gel(Topical) 20gmA CN Soap 75gm</td>\n",
       "      <td>[Acne]</td>\n",
       "      <td>[Mild, to, moderate, acne, (spots)]</td>\n",
       "      <td>[Mild, to, moderate, acne, (spots), Acne]</td>\n",
       "    </tr>\n",
       "    <tr>\n",
       "      <th>1</th>\n",
       "      <td>2</td>\n",
       "      <td>A Ret 0.05% Gel 20gmA Ret 0.1% Gel 20gmA Ret 0...</td>\n",
       "      <td>[Acne]</td>\n",
       "      <td>[A, RET, 0.025%, is, a, prescription, medicine...</td>\n",
       "      <td>[A, RET, 0.025%, is, a, prescription, medicine...</td>\n",
       "    </tr>\n",
       "    <tr>\n",
       "      <th>2</th>\n",
       "      <td>3</td>\n",
       "      <td>ACGEL CL NANO Gel 15gm</td>\n",
       "      <td>[Acne]</td>\n",
       "      <td>[It, is, used, to, treat, acne, vulgaris, in, ...</td>\n",
       "      <td>[It, is, used, to, treat, acne, vulgaris, in, ...</td>\n",
       "    </tr>\n",
       "    <tr>\n",
       "      <th>3</th>\n",
       "      <td>4</td>\n",
       "      <td>ACGEL NANO Gel 15gm</td>\n",
       "      <td>[Acne]</td>\n",
       "      <td>[It, is, used, to, treat, acne, vulgaris, in, ...</td>\n",
       "      <td>[It, is, used, to, treat, acne, vulgaris, in, ...</td>\n",
       "    </tr>\n",
       "    <tr>\n",
       "      <th>4</th>\n",
       "      <td>5</td>\n",
       "      <td>Acleen 1% Lotion 25ml</td>\n",
       "      <td>[Acne]</td>\n",
       "      <td>[treat, the, most, severe, form, of, acne, (no...</td>\n",
       "      <td>[treat, the, most, severe, form, of, acne, (no...</td>\n",
       "    </tr>\n",
       "  </tbody>\n",
       "</table>\n",
       "</div>"
      ],
      "text/plain": [
       "   index                                          Drug_Name  Reason  \\\n",
       "0      1               A CN Gel(Topical) 20gmA CN Soap 75gm  [Acne]   \n",
       "1      2  A Ret 0.05% Gel 20gmA Ret 0.1% Gel 20gmA Ret 0...  [Acne]   \n",
       "2      3                             ACGEL CL NANO Gel 15gm  [Acne]   \n",
       "3      4                                ACGEL NANO Gel 15gm  [Acne]   \n",
       "4      5                              Acleen 1% Lotion 25ml  [Acne]   \n",
       "\n",
       "                                         Description  \\\n",
       "0                [Mild, to, moderate, acne, (spots)]   \n",
       "1  [A, RET, 0.025%, is, a, prescription, medicine...   \n",
       "2  [It, is, used, to, treat, acne, vulgaris, in, ...   \n",
       "3  [It, is, used, to, treat, acne, vulgaris, in, ...   \n",
       "4  [treat, the, most, severe, form, of, acne, (no...   \n",
       "\n",
       "                                                tags  \n",
       "0          [Mild, to, moderate, acne, (spots), Acne]  \n",
       "1  [A, RET, 0.025%, is, a, prescription, medicine...  \n",
       "2  [It, is, used, to, treat, acne, vulgaris, in, ...  \n",
       "3  [It, is, used, to, treat, acne, vulgaris, in, ...  \n",
       "4  [treat, the, most, severe, form, of, acne, (no...  "
      ]
     },
     "execution_count": 33,
     "metadata": {},
     "output_type": "execute_result"
    }
   ],
   "source": [
    "data.head()"
   ]
  },
  {
   "cell_type": "code",
   "execution_count": 35,
   "id": "70ececbd-7710-479c-bb4f-6ece10a39b6a",
   "metadata": {},
   "outputs": [],
   "source": [
    "new_data = data[['index', 'Drug_Name', 'tags']]"
   ]
  },
  {
   "cell_type": "code",
   "execution_count": 37,
   "id": "38996dd6-fcaa-4e74-a4da-e94e457a0463",
   "metadata": {},
   "outputs": [
    {
     "data": {
      "text/html": [
       "<div>\n",
       "<style scoped>\n",
       "    .dataframe tbody tr th:only-of-type {\n",
       "        vertical-align: middle;\n",
       "    }\n",
       "\n",
       "    .dataframe tbody tr th {\n",
       "        vertical-align: top;\n",
       "    }\n",
       "\n",
       "    .dataframe thead th {\n",
       "        text-align: right;\n",
       "    }\n",
       "</style>\n",
       "<table border=\"1\" class=\"dataframe\">\n",
       "  <thead>\n",
       "    <tr style=\"text-align: right;\">\n",
       "      <th></th>\n",
       "      <th>index</th>\n",
       "      <th>Drug_Name</th>\n",
       "      <th>tags</th>\n",
       "    </tr>\n",
       "  </thead>\n",
       "  <tbody>\n",
       "    <tr>\n",
       "      <th>0</th>\n",
       "      <td>1</td>\n",
       "      <td>A CN Gel(Topical) 20gmA CN Soap 75gm</td>\n",
       "      <td>[Mild, to, moderate, acne, (spots), Acne]</td>\n",
       "    </tr>\n",
       "    <tr>\n",
       "      <th>1</th>\n",
       "      <td>2</td>\n",
       "      <td>A Ret 0.05% Gel 20gmA Ret 0.1% Gel 20gmA Ret 0...</td>\n",
       "      <td>[A, RET, 0.025%, is, a, prescription, medicine...</td>\n",
       "    </tr>\n",
       "    <tr>\n",
       "      <th>2</th>\n",
       "      <td>3</td>\n",
       "      <td>ACGEL CL NANO Gel 15gm</td>\n",
       "      <td>[It, is, used, to, treat, acne, vulgaris, in, ...</td>\n",
       "    </tr>\n",
       "    <tr>\n",
       "      <th>3</th>\n",
       "      <td>4</td>\n",
       "      <td>ACGEL NANO Gel 15gm</td>\n",
       "      <td>[It, is, used, to, treat, acne, vulgaris, in, ...</td>\n",
       "    </tr>\n",
       "    <tr>\n",
       "      <th>4</th>\n",
       "      <td>5</td>\n",
       "      <td>Acleen 1% Lotion 25ml</td>\n",
       "      <td>[treat, the, most, severe, form, of, acne, (no...</td>\n",
       "    </tr>\n",
       "  </tbody>\n",
       "</table>\n",
       "</div>"
      ],
      "text/plain": [
       "   index                                          Drug_Name  \\\n",
       "0      1               A CN Gel(Topical) 20gmA CN Soap 75gm   \n",
       "1      2  A Ret 0.05% Gel 20gmA Ret 0.1% Gel 20gmA Ret 0...   \n",
       "2      3                             ACGEL CL NANO Gel 15gm   \n",
       "3      4                                ACGEL NANO Gel 15gm   \n",
       "4      5                              Acleen 1% Lotion 25ml   \n",
       "\n",
       "                                                tags  \n",
       "0          [Mild, to, moderate, acne, (spots), Acne]  \n",
       "1  [A, RET, 0.025%, is, a, prescription, medicine...  \n",
       "2  [It, is, used, to, treat, acne, vulgaris, in, ...  \n",
       "3  [It, is, used, to, treat, acne, vulgaris, in, ...  \n",
       "4  [treat, the, most, severe, form, of, acne, (no...  "
      ]
     },
     "execution_count": 37,
     "metadata": {},
     "output_type": "execute_result"
    }
   ],
   "source": [
    "new_data.head()"
   ]
  },
  {
   "cell_type": "code",
   "execution_count": 39,
   "id": "f80271c1-17a8-46e0-9901-ec0177c05fce",
   "metadata": {},
   "outputs": [
    {
     "name": "stderr",
     "output_type": "stream",
     "text": [
      "C:\\Users\\gungu\\AppData\\Local\\Temp\\ipykernel_4000\\2019840365.py:1: SettingWithCopyWarning: \n",
      "A value is trying to be set on a copy of a slice from a DataFrame.\n",
      "Try using .loc[row_indexer,col_indexer] = value instead\n",
      "\n",
      "See the caveats in the documentation: https://pandas.pydata.org/pandas-docs/stable/user_guide/indexing.html#returning-a-view-versus-a-copy\n",
      "  new_data['tags'] = new_data['tags'].apply(lambda x : \" \".join(x))\n"
     ]
    }
   ],
   "source": [
    "new_data['tags'] = new_data['tags'].apply(lambda x : \" \".join(x))"
   ]
  },
  {
   "cell_type": "code",
   "execution_count": 41,
   "id": "d14624e2-7e77-4575-b05f-1408cf7acaa2",
   "metadata": {},
   "outputs": [
    {
     "name": "stderr",
     "output_type": "stream",
     "text": [
      "C:\\Users\\gungu\\AppData\\Local\\Temp\\ipykernel_4000\\805274915.py:1: SettingWithCopyWarning: \n",
      "A value is trying to be set on a copy of a slice from a DataFrame.\n",
      "Try using .loc[row_indexer,col_indexer] = value instead\n",
      "\n",
      "See the caveats in the documentation: https://pandas.pydata.org/pandas-docs/stable/user_guide/indexing.html#returning-a-view-versus-a-copy\n",
      "  new_data['tags'] = new_data['tags'].apply(lambda x : x.lower())\n"
     ]
    }
   ],
   "source": [
    "new_data['tags'] = new_data['tags'].apply(lambda x : x.lower())"
   ]
  },
  {
   "cell_type": "code",
   "execution_count": 43,
   "id": "37715d7c-4ab6-4bf0-bc47-0230649dadfc",
   "metadata": {},
   "outputs": [
    {
     "data": {
      "text/html": [
       "<div>\n",
       "<style scoped>\n",
       "    .dataframe tbody tr th:only-of-type {\n",
       "        vertical-align: middle;\n",
       "    }\n",
       "\n",
       "    .dataframe tbody tr th {\n",
       "        vertical-align: top;\n",
       "    }\n",
       "\n",
       "    .dataframe thead th {\n",
       "        text-align: right;\n",
       "    }\n",
       "</style>\n",
       "<table border=\"1\" class=\"dataframe\">\n",
       "  <thead>\n",
       "    <tr style=\"text-align: right;\">\n",
       "      <th></th>\n",
       "      <th>index</th>\n",
       "      <th>Drug_Name</th>\n",
       "      <th>tags</th>\n",
       "    </tr>\n",
       "  </thead>\n",
       "  <tbody>\n",
       "    <tr>\n",
       "      <th>0</th>\n",
       "      <td>1</td>\n",
       "      <td>A CN Gel(Topical) 20gmA CN Soap 75gm</td>\n",
       "      <td>mild to moderate acne (spots) acne</td>\n",
       "    </tr>\n",
       "    <tr>\n",
       "      <th>1</th>\n",
       "      <td>2</td>\n",
       "      <td>A Ret 0.05% Gel 20gmA Ret 0.1% Gel 20gmA Ret 0...</td>\n",
       "      <td>a ret 0.025% is a prescription medicine that i...</td>\n",
       "    </tr>\n",
       "    <tr>\n",
       "      <th>2</th>\n",
       "      <td>3</td>\n",
       "      <td>ACGEL CL NANO Gel 15gm</td>\n",
       "      <td>it is used to treat acne vulgaris in people 12...</td>\n",
       "    </tr>\n",
       "    <tr>\n",
       "      <th>3</th>\n",
       "      <td>4</td>\n",
       "      <td>ACGEL NANO Gel 15gm</td>\n",
       "      <td>it is used to treat acne vulgaris in people 12...</td>\n",
       "    </tr>\n",
       "    <tr>\n",
       "      <th>4</th>\n",
       "      <td>5</td>\n",
       "      <td>Acleen 1% Lotion 25ml</td>\n",
       "      <td>treat the most severe form of acne (nodular ac...</td>\n",
       "    </tr>\n",
       "  </tbody>\n",
       "</table>\n",
       "</div>"
      ],
      "text/plain": [
       "   index                                          Drug_Name  \\\n",
       "0      1               A CN Gel(Topical) 20gmA CN Soap 75gm   \n",
       "1      2  A Ret 0.05% Gel 20gmA Ret 0.1% Gel 20gmA Ret 0...   \n",
       "2      3                             ACGEL CL NANO Gel 15gm   \n",
       "3      4                                ACGEL NANO Gel 15gm   \n",
       "4      5                              Acleen 1% Lotion 25ml   \n",
       "\n",
       "                                                tags  \n",
       "0                 mild to moderate acne (spots) acne  \n",
       "1  a ret 0.025% is a prescription medicine that i...  \n",
       "2  it is used to treat acne vulgaris in people 12...  \n",
       "3  it is used to treat acne vulgaris in people 12...  \n",
       "4  treat the most severe form of acne (nodular ac...  "
      ]
     },
     "execution_count": 43,
     "metadata": {},
     "output_type": "execute_result"
    }
   ],
   "source": [
    "new_data.head()"
   ]
  },
  {
   "cell_type": "code",
   "execution_count": 45,
   "id": "b22dc9fb-4dbe-4c52-9d77-716d4ae6c5ea",
   "metadata": {},
   "outputs": [],
   "source": [
    "import nltk\n",
    "from nltk.stem.porter import PorterStemmer\n",
    "ps = PorterStemmer()"
   ]
  },
  {
   "cell_type": "code",
   "execution_count": 47,
   "id": "a4d758aa-064c-4079-b5f2-ae09cd759ab2",
   "metadata": {},
   "outputs": [],
   "source": [
    "from sklearn.feature_extraction.text import CountVectorizer\n",
    "cv = CountVectorizer(stop_words = \"english\", max_features = 5000)\n"
   ]
  },
  {
   "cell_type": "code",
   "execution_count": 49,
   "id": "f30c7f27-e9e7-4a79-86e3-0b58efe0e63f",
   "metadata": {},
   "outputs": [],
   "source": [
    "def stem(text):\n",
    "    y = []\n",
    "    for i in text.split():\n",
    "        y.append(ps.stem(i))\n",
    "    return \" \".join(y)\n"
   ]
  },
  {
   "cell_type": "code",
   "execution_count": 51,
   "id": "79dd537d-a380-4741-8043-7ffbb0eda63f",
   "metadata": {},
   "outputs": [
    {
     "data": {
      "text/plain": [
       "'you are so so beauti'"
      ]
     },
     "execution_count": 51,
     "metadata": {},
     "output_type": "execute_result"
    }
   ],
   "source": [
    "stem(\"You are so so beautiful\")"
   ]
  },
  {
   "cell_type": "code",
   "execution_count": 53,
   "id": "8b3f54fa-68ea-4621-9f23-ef3c7988ef08",
   "metadata": {},
   "outputs": [
    {
     "name": "stderr",
     "output_type": "stream",
     "text": [
      "C:\\Users\\gungu\\AppData\\Local\\Temp\\ipykernel_4000\\1214595124.py:1: SettingWithCopyWarning: \n",
      "A value is trying to be set on a copy of a slice from a DataFrame.\n",
      "Try using .loc[row_indexer,col_indexer] = value instead\n",
      "\n",
      "See the caveats in the documentation: https://pandas.pydata.org/pandas-docs/stable/user_guide/indexing.html#returning-a-view-versus-a-copy\n",
      "  new_data['tags'] = new_data['tags'].apply(stem)\n"
     ]
    }
   ],
   "source": [
    "new_data['tags'] = new_data['tags'].apply(stem)"
   ]
  },
  {
   "cell_type": "code",
   "execution_count": 55,
   "id": "1e9f0032-8ec8-466a-a100-0a3b133ef4fc",
   "metadata": {},
   "outputs": [
    {
     "data": {
      "text/html": [
       "<div>\n",
       "<style scoped>\n",
       "    .dataframe tbody tr th:only-of-type {\n",
       "        vertical-align: middle;\n",
       "    }\n",
       "\n",
       "    .dataframe tbody tr th {\n",
       "        vertical-align: top;\n",
       "    }\n",
       "\n",
       "    .dataframe thead th {\n",
       "        text-align: right;\n",
       "    }\n",
       "</style>\n",
       "<table border=\"1\" class=\"dataframe\">\n",
       "  <thead>\n",
       "    <tr style=\"text-align: right;\">\n",
       "      <th></th>\n",
       "      <th>index</th>\n",
       "      <th>Drug_Name</th>\n",
       "      <th>tags</th>\n",
       "    </tr>\n",
       "  </thead>\n",
       "  <tbody>\n",
       "    <tr>\n",
       "      <th>0</th>\n",
       "      <td>1</td>\n",
       "      <td>A CN Gel(Topical) 20gmA CN Soap 75gm</td>\n",
       "      <td>mild to moder acn (spots) acn</td>\n",
       "    </tr>\n",
       "    <tr>\n",
       "      <th>1</th>\n",
       "      <td>2</td>\n",
       "      <td>A Ret 0.05% Gel 20gmA Ret 0.1% Gel 20gmA Ret 0...</td>\n",
       "      <td>a ret 0.025% is a prescript medicin that is us...</td>\n",
       "    </tr>\n",
       "    <tr>\n",
       "      <th>2</th>\n",
       "      <td>3</td>\n",
       "      <td>ACGEL CL NANO Gel 15gm</td>\n",
       "      <td>it is use to treat acn vulgari in peopl 12 yea...</td>\n",
       "    </tr>\n",
       "    <tr>\n",
       "      <th>3</th>\n",
       "      <td>4</td>\n",
       "      <td>ACGEL NANO Gel 15gm</td>\n",
       "      <td>it is use to treat acn vulgari in peopl 12 yea...</td>\n",
       "    </tr>\n",
       "    <tr>\n",
       "      <th>4</th>\n",
       "      <td>5</td>\n",
       "      <td>Acleen 1% Lotion 25ml</td>\n",
       "      <td>treat the most sever form of acn (nodular acne...</td>\n",
       "    </tr>\n",
       "  </tbody>\n",
       "</table>\n",
       "</div>"
      ],
      "text/plain": [
       "   index                                          Drug_Name  \\\n",
       "0      1               A CN Gel(Topical) 20gmA CN Soap 75gm   \n",
       "1      2  A Ret 0.05% Gel 20gmA Ret 0.1% Gel 20gmA Ret 0...   \n",
       "2      3                             ACGEL CL NANO Gel 15gm   \n",
       "3      4                                ACGEL NANO Gel 15gm   \n",
       "4      5                              Acleen 1% Lotion 25ml   \n",
       "\n",
       "                                                tags  \n",
       "0                      mild to moder acn (spots) acn  \n",
       "1  a ret 0.025% is a prescript medicin that is us...  \n",
       "2  it is use to treat acn vulgari in peopl 12 yea...  \n",
       "3  it is use to treat acn vulgari in peopl 12 yea...  \n",
       "4  treat the most sever form of acn (nodular acne...  "
      ]
     },
     "execution_count": 55,
     "metadata": {},
     "output_type": "execute_result"
    }
   ],
   "source": [
    "new_data.head()"
   ]
  },
  {
   "cell_type": "code",
   "execution_count": 57,
   "id": "386bad44-7274-46b2-a880-f2bafc9fa240",
   "metadata": {},
   "outputs": [],
   "source": [
    "vectors = cv.fit_transform(new_data['tags']).toarray()"
   ]
  },
  {
   "cell_type": "code",
   "execution_count": 59,
   "id": "9578fb09-4c5d-4eca-860b-9934f4f29812",
   "metadata": {},
   "outputs": [
    {
     "data": {
      "text/plain": [
       "(9720, 806)"
      ]
     },
     "execution_count": 59,
     "metadata": {},
     "output_type": "execute_result"
    }
   ],
   "source": [
    "vectors.shape"
   ]
  },
  {
   "cell_type": "code",
   "execution_count": 61,
   "id": "d00a78ac-7474-415e-8ae9-cf479e2d3c82",
   "metadata": {},
   "outputs": [
    {
     "data": {
      "text/plain": [
       "array(['025', '12', '16', '18', 'abdomin', 'abl', 'ach', 'acid', 'acn',\n",
       "       'acne', 'acquir', 'action', 'activ', 'acut', 'acute', 'adequ',\n",
       "       'adhd', 'adjunct', 'adolesc', 'adult', 'adults', 'affect', 'ag',\n",
       "       'age', 'aids', 'allerg', 'allergen', 'allergi', 'allow', 'alon',\n",
       "       'alzheim', 'alzheimer', 'alzheimerâ', 'amoebiasi', 'anaemia',\n",
       "       'anal', 'angina', 'angl', 'ani', 'ankylos', 'anorexia', 'anoth',\n",
       "       'anti', 'antioxid', 'antipsychot', 'antiretrovir', 'anxieti',\n",
       "       'anxiou', 'anxious', 'apnoea', 'appear', 'appetit', 'appetite',\n",
       "       'appli', 'appropri', 'area', 'arrhythmia', 'arrhythmiasi',\n",
       "       'arteri', 'arthralgia', 'arthriti', 'associ', 'atherothrombot',\n",
       "       'athleteâ', 'atop', 'atrial', 'attack', 'awak', 'b1', 'b2', 'b3',\n",
       "       'b5', 'b6', 'babi', 'backache', 'bacteri', 'bacteria', 'balanc',\n",
       "       'balanitis', 'bandag', 'becom', 'behaviour', 'beliefs', 'benefit',\n",
       "       'beta', 'biliari', 'biotin', 'bite', 'blackhead', 'blackheads',\n",
       "       'bleaches', 'bleed', 'bloating', 'block', 'blood', 'bodi', 'bodyâ',\n",
       "       'bon', 'bone', 'bones', 'bowel', 'brain', 'breakdown', 'breath',\n",
       "       'brighten', 'bronchiti', 'brown', 'bursitis', 'calcium', 'calm',\n",
       "       'cancer', 'candid', 'candidiasis', 'canâ', 'carbohydr',\n",
       "       'cardiovascular', 'care', 'carrier', 'cartilag', 'case', 'cases',\n",
       "       'cataract', 'caus', 'cavity', 'cell', 'certain', 'chanc', 'chang',\n",
       "       'characteris', 'chemic', 'chemotherapi', 'chest', 'chickenpox',\n",
       "       'childhood', 'children', 'chlosma', 'cholesterol', 'chronic',\n",
       "       'clean', 'cleaner', 'cleanser', 'clear', 'clot', 'cmv', 'cold',\n",
       "       'colds', 'colic', 'colon', 'colorect', 'coma', 'combin', 'common',\n",
       "       'complet', 'complexion', 'concomit', 'condit', 'conditions',\n",
       "       'confused', 'confusion', 'congestion', 'conjunct', 'consciousness',\n",
       "       'consid', 'consist', 'constip', 'constipation', 'constipationâ',\n",
       "       'continu', 'contracept', 'control', 'contusion', 'convent',\n",
       "       'convulsion', 'corpori', 'corticosteroid', 'cough', 'cramp',\n",
       "       'cream', 'cruri', 'cushion', 'cycl', 'cytomegaloviru',\n",
       "       'cytoprotect', 'd3', 'daili', 'damag', 'dandruff', 'dark', 'death',\n",
       "       'decreas', 'defici', 'degrad', 'degre', 'delay', 'demand',\n",
       "       'dementia', 'dental', 'deposit', 'depress', 'depressed', 'dermat',\n",
       "       'deterg', 'diabet', 'diagnost', 'diarrhea', 'diarrhoea', 'diet',\n",
       "       'differ', 'difficult', 'difficulti', 'digest', 'digestion',\n",
       "       'dilate', 'discolor', 'discoloured', 'diseas', 'disord',\n",
       "       'disorder', 'disorders', 'displac', 'distens', 'dizzi', 'doctor',\n",
       "       'doe', 'drain', 'drained', 'dri', 'drop', 'drowsi', 'drugs',\n",
       "       'dull', 'dure', 'dysmenorrhea', 'ear', 'ears', 'eczema', 'effect',\n",
       "       'effects', 'elbow', 'element', 'emot', 'encephalopathi',\n",
       "       'endometriosi', 'energi', 'energy', 'enhanc', 'enlarg', 'enzym',\n",
       "       'enzyme', 'epicondylitis', 'episod', 'especi', 'essenti', 'event',\n",
       "       'excess', 'exercis', 'exfoli', 'exocrin', 'extern', 'extra', 'eye',\n",
       "       'eyes', 'face', 'fade', 'fail', 'failur', 'failure', 'fast', 'fat',\n",
       "       'fatigue', 'fats', 'fatti', 'febril', 'feed', 'feel', 'feet',\n",
       "       'fever', 'feverish', 'fibril', 'fine', 'fissur', 'flat', 'flatul',\n",
       "       'flatulence', 'flexibl', 'flow', 'flu', 'fluid', 'flutter',\n",
       "       'focus', 'folic', 'follow', 'food', 'foot', 'form', 'format',\n",
       "       'free', 'fresh', 'friction', 'function', 'fungal', 'fungi',\n",
       "       'fungu', 'gain', 'gener', 'genit', 'gland', 'glaucoma', 'glow',\n",
       "       'gonorrhoea', 'good', 'gout', 'gradual', 'gravi', 'growth',\n",
       "       'guilty', 'gum', 'ha', 'haematopoiesi', 'haemorrhoid',\n",
       "       'haemorrhoidectomi', 'haemorrhoids', 'hair', 'hallucinations',\n",
       "       'hands', 'hard', 'hay', 'head', 'headach', 'headache', 'heal',\n",
       "       'health', 'healthy', 'hear', 'hearing', 'heart', 'heartbeat',\n",
       "       'help', 'hepat', 'herp', 'high', 'hiv', 'hives', 'hormon',\n",
       "       'hospit', 'human', 'hygien', 'hypercalcaemia', 'hyperparathyroid',\n",
       "       'hyperpigment', 'hyperpigmentation', 'hypertens', 'hypertension',\n",
       "       'hyperthyroid', 'hypertrophi', 'hypnosi', 'hypotens',\n",
       "       'hypothyroid', 'hypothyroidism', 'hyroid', 'ibs', 'immun',\n",
       "       'immunodefici', 'improv', 'improvesâ', 'includ', 'incoher',\n",
       "       'incomplet', 'increas', 'indic', 'indigest', 'induc', 'infect',\n",
       "       'infection', 'infections', 'infest', 'inflamm', 'inflammationâ',\n",
       "       'inflammatori', 'influenza', 'infrequ', 'inguinalis', 'inhal',\n",
       "       'inhibitor', 'injuri', 'inner', 'insect', 'insid', 'insomnia',\n",
       "       'insufficiencyâ', 'integr', 'intens', 'interdigit', 'intern',\n",
       "       'interrupt', 'intestin', 'intestinal', 'intoler', 'invas',\n",
       "       'involuntari', 'iodine', 'iritis', 'iron', 'irrit', 'isâ', 'itch',\n",
       "       'itâ', 'jewelleri', 'jock', 'joint', 'kidney', 'kit', 'knees',\n",
       "       'known', 'lack', 'lactat', 'lead', 'learning', 'left', 'level',\n",
       "       'lice', 'life', 'ligaments', 'line', 'lip', 'liquid', 'liv',\n",
       "       'live', 'liver', 'long', 'look', 'lose', 'loss', 'lotion', 'lower',\n",
       "       'lowersâ', 'lowerâ', 'lung', 'lvh', 'mainli', 'maintain', 'major',\n",
       "       'make', 'malari', 'malaria', 'malignancies', 'manag', 'manganese',\n",
       "       'mani', 'manuum', 'marrow', 'medic', 'medicin', 'melanin',\n",
       "       'melasma', 'mellitu', 'memori', 'men', 'mening', 'menopaus',\n",
       "       'mental', 'metabol', 'methyl', 'micronutri', 'migrain', 'migraine',\n",
       "       'mild', 'milk', 'miner', 'minor', 'mistaken', 'mobil', 'moder',\n",
       "       'moderate', 'moistur', 'molybdenum', 'motion', 'movement',\n",
       "       'movements', 'muscl', 'muscular', 'musculoskelet', 'myalgia',\n",
       "       'myasthenia', 'mydriasi', 'myeloid', 'narrow', 'nasal', 'natur',\n",
       "       'nausea', 'need', 'nephropathy', 'nerv', 'nervosa', 'nervousness',\n",
       "       'nettl', 'neuralgia', 'neutral', 'newborns', 'nodular', 'non',\n",
       "       'normal', 'nose', 'nutrient', 'nutrit', 'occur', 'ocular', 'ofâ',\n",
       "       'oili', 'older', 'onli', 'op', 'open', 'oper', 'oral', 'origin',\n",
       "       'osteoarthr', 'osteodystrophy', 'osteoporosi', 'oxid', 'oxidation',\n",
       "       'pah', 'pain', 'pancrea', 'paralys', 'parathyroid', 'parkinson',\n",
       "       'parkinsonâ', 'passag', 'patch', 'patches', 'patient', 'patientsâ',\n",
       "       'pectori', 'pectoris', 'pedis', 'pelvic', 'penil', 'peopl',\n",
       "       'peptid', 'period', 'physic', 'piles', 'pimpl', 'pimple',\n",
       "       'pityriasi', 'polysaccharid', 'portal', 'post', 'potent', 'power',\n",
       "       'pre', 'prednisolon', 'pregnanc', 'prematur', 'preoper',\n",
       "       'prescrib', 'prescript', 'present', 'pressur', 'prevent', 'prexia',\n",
       "       'primari', 'prinzmet', 'problem', 'procedur', 'process',\n",
       "       'proctiti', 'produc', 'product', 'progress', 'prolactin', 'promot',\n",
       "       'properti', 'protect', 'provid', 'pseudo', 'psychosi',\n",
       "       'psychosomat', 'pulmonari', 'pupil', 'pyrexia', 'rabi', 'radicals',\n",
       "       'radiculitis', 'rais', 'rarer', 'rash', 'react', 'reaction',\n",
       "       'receiv', 'recommend', 'red', 'reduc', 'reduct', 'refer',\n",
       "       'regener', 'regimen', 'relat', 'releief', 'relief', 'reliev',\n",
       "       'reliv', 'remov', 'renal', 'repair', 'replac', 'reproduct',\n",
       "       'resist', 'respiratori', 'respond', 'respons', 'restor', 'ret',\n",
       "       'retin', 'rheumat', 'ring', 'ringworm', 'root', 'rosacea', 'scabi',\n",
       "       'scali', 'scalp', 'scar', 'schizophren', 'schizophrenia',\n",
       "       'seborrh', 'sed', 'sedat', 'sens', 'sever', 'shingl', 'short',\n",
       "       'sick', 'sickness', 'silki', 'simpl', 'simplex', 'sinusitis',\n",
       "       'skelet', 'skin', 'skinâ', 'sleep', 'slow', 'small', 'smoke',\n",
       "       'smooth', 'soaps', 'soar', 'soft', 'soften', 'soothen', 'sore',\n",
       "       'sores', 'spasmod', 'speech', 'speed', 'spondyl', 'spot', 'spots',\n",
       "       'sprain', 'spread', 'stabil', 'starch', 'start', 'state',\n",
       "       'steroids', 'stiff', 'stomach', 'stools', 'stop', 'strains',\n",
       "       'strengthen', 'stroke', 'structur', 'substanc', 'suffer', 'sugar',\n",
       "       'sunburn', 'sunscreen', 'suppl', 'supplement', 'support',\n",
       "       'surgeri', 'surgeryâ', 'surgic', 'suspiciousness', 'sweat',\n",
       "       'swell', 'swelling', 'swollen', 'symptom', 'symptomat', 'symptoms',\n",
       "       'syndrom', 'synovi', 'synovitis', 'synthesi', 'synthet',\n",
       "       'syphilis', 'tablet', 'tachycardia', 'task', 'temperature',\n",
       "       'tender', 'tendonitis', 'tens', 'term', 'textur', 'therapi',\n",
       "       'therebi', 'thi', 'thing', 'throat', 'thrombolysi', 'thrush',\n",
       "       'thu', 'thyroid', 'thyroxin', 'time', 'tinea', 'tinnitus', 'tissu',\n",
       "       'tissues', 'toe', 'tone', 'tonsil', 'tonsilitis', 'tonsillectomi',\n",
       "       'toothach', 'toothache', 'topic', 'trace', 'tract', 'transmit',\n",
       "       'transplant', 'trauma', 'traumat', 'travel', 'treat', 'treatment',\n",
       "       'treatsâ', 'treatâ', 'tremor', 'triglycerid', 'tubercular', 'type',\n",
       "       'ulcer', 'unabl', 'unbalanc', 'uncompl', 'uneven', 'unstabl',\n",
       "       'unusu', 'unwant', 'upper', 'uptak', 'urate', 'uretericâ', 'uric',\n",
       "       'urinaryâ', 'use', 'uses', 'usual', 'uveiti', 'vaccin', 'vagin',\n",
       "       'variant', 'varieti', 'ventricular', 'verruca', 'versicolor',\n",
       "       'vertigo', 'vessel', 'viral', 'viru', 'virus', 'vitamin',\n",
       "       'vitamins', 'volume', 'vomit', 'vulgari', 'vulgarisâ', 'wall',\n",
       "       'wart', 'wash', 'weak', 'weaken', 'weight', 'wet', 'whichâ',\n",
       "       'whilst', 'white', 'widen', 'withdrawn', 'womb', 'women', 'work',\n",
       "       'worsen', 'wound', 'wrinkl', 'wrinkles', 'year', 'younger', 'zinc',\n",
       "       'œpancreat'], dtype=object)"
      ]
     },
     "execution_count": 61,
     "metadata": {},
     "output_type": "execute_result"
    }
   ],
   "source": [
    "cv.get_feature_names_out()"
   ]
  },
  {
   "cell_type": "code",
   "execution_count": 63,
   "id": "97acf832-c26a-4483-81ce-c33cc14abba8",
   "metadata": {},
   "outputs": [],
   "source": [
    "from sklearn.metrics.pairwise import cosine_similarity"
   ]
  },
  {
   "cell_type": "code",
   "execution_count": 65,
   "id": "21a8cb80-2a7c-47b5-adf8-ea951c68b8ca",
   "metadata": {},
   "outputs": [],
   "source": [
    "similarity = cosine_similarity(vectors)"
   ]
  },
  {
   "cell_type": "code",
   "execution_count": 67,
   "id": "f5bceb02-1e83-4ff0-b9f0-068408ad8e82",
   "metadata": {},
   "outputs": [
    {
     "data": {
      "text/plain": [
       "array([0.25197632, 1.        , 0.25660012, ..., 0.19245009, 0.1490712 ,\n",
       "       0.0860663 ])"
      ]
     },
     "execution_count": 67,
     "metadata": {},
     "output_type": "execute_result"
    }
   ],
   "source": [
    "similarity[1]"
   ]
  },
  {
   "cell_type": "code",
   "execution_count": 78,
   "id": "1a87c780-b72e-4505-88a8-d693e7b0af80",
   "metadata": {},
   "outputs": [],
   "source": [
    "def recommendation(medicine):\n",
    "    medicine_index = new_data[new_data['Drug_Name'] == medicine].index[0]\n",
    "    distance = similarity[medicine_index]\n",
    "    medicine_list = sorted(list(enumerate(distance)), reverse=True, key = lambda x : x[1])[1:6]\n",
    "    for i in medicine_list:\n",
    "        print(new_data.iloc[i[0]].Drug_Name)\n",
    "    \n",
    "\n",
    "    "
   ]
  },
  {
   "cell_type": "code",
   "execution_count": 80,
   "id": "ad40fc7e-676a-4466-9e7e-bbdb5c01c020",
   "metadata": {},
   "outputs": [
    {
     "name": "stdout",
     "output_type": "stream",
     "text": [
      "ACGEL NANO Gel 15gm\n",
      "Acnehit Gel 15gm\n",
      "Acnelak Soap 75gm\n",
      "Acnetor AD 1% Ointment 15gm\n",
      "Acnetor AD Cream 15Acnetor AD Gel 15gm\n"
     ]
    }
   ],
   "source": [
    "recommendation(\"ACGEL CL NANO Gel 15gm\")"
   ]
  },
  {
   "cell_type": "code",
   "execution_count": 82,
   "id": "a92c33ae-dd35-4586-8c6c-62a3e14eb251",
   "metadata": {},
   "outputs": [],
   "source": [
    "import pickle\n",
    "pickle.dump(new_data.to_dict(), open(\"medicine_dict.pkl\", \"wb\"))\n",
    "pickle.dump(similarity, open(\"similarity.pkl\", \"wb\"))\n"
   ]
  },
  {
   "cell_type": "code",
   "execution_count": null,
   "id": "e4979ef8-1f16-43fe-8e5e-de19409cca25",
   "metadata": {},
   "outputs": [],
   "source": []
  }
 ],
 "metadata": {
  "kernelspec": {
   "display_name": "Python 3 (ipykernel)",
   "language": "python",
   "name": "python3"
  },
  "language_info": {
   "codemirror_mode": {
    "name": "ipython",
    "version": 3
   },
   "file_extension": ".py",
   "mimetype": "text/x-python",
   "name": "python",
   "nbconvert_exporter": "python",
   "pygments_lexer": "ipython3",
   "version": "3.12.4"
  }
 },
 "nbformat": 4,
 "nbformat_minor": 5
}
